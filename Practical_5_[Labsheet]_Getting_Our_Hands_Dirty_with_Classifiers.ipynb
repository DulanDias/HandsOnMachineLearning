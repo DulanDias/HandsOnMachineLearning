{
  "nbformat": 4,
  "nbformat_minor": 0,
  "metadata": {
    "colab": {
      "name": "Practical 5 [Labsheet]- Getting Our Hands Dirty with Classifiers.ipynb",
      "provenance": [],
      "collapsed_sections": [],
      "authorship_tag": "ABX9TyMwjg0cnL+DvcXM7a0loyMT",
      "include_colab_link": true
    },
    "kernelspec": {
      "name": "python3",
      "display_name": "Python 3"
    }
  },
  "cells": [
    {
      "cell_type": "markdown",
      "metadata": {
        "id": "view-in-github",
        "colab_type": "text"
      },
      "source": [
        "<a href=\"https://colab.research.google.com/github/DulanDias/HandsOnMachineLearning/blob/master/Practical_5_%5BLabsheet%5D_Getting_Our_Hands_Dirty_with_Classifiers.ipynb\" target=\"_parent\"><img src=\"https://colab.research.google.com/assets/colab-badge.svg\" alt=\"Open In Colab\"/></a>"
      ]
    },
    {
      "cell_type": "markdown",
      "metadata": {
        "id": "ijuiybnH4QEC",
        "colab_type": "text"
      },
      "source": [
        "# **CSC 319 1.5 Machine Learning 1**\n",
        "## **Practical 5 - Getting Our Hands Dirty with Classifiers**\n",
        "\n",
        "In this section, we will use the MNIST dataset to train a classifier and understand the results of the model.\n"
      ]
    },
    {
      "cell_type": "markdown",
      "metadata": {
        "id": "ehlRsNFw2tBK",
        "colab_type": "text"
      },
      "source": [
        "MNIST dataset is a set of 70,000 small images of digits handwritten by high school students and employees of the US Census Bureau. Each image is labeled with the digit it represents. This set has been studied so much that it is often called the “Hello World” of Machine Learning: whenever people come up with a new classification algorithm, they are curious to see how it will perform on MNIST. "
      ]
    },
    {
      "cell_type": "markdown",
      "metadata": {
        "id": "UCIIlhyh9uPx",
        "colab_type": "text"
      },
      "source": [
        "### **1. Getting Started with the MNIST Dataset**"
      ]
    },
    {
      "cell_type": "markdown",
      "metadata": {
        "id": "0k4GuAHzBM5q",
        "colab_type": "text"
      },
      "source": [
        "Scikit-Learn provides many helper functions to download popular datasets. MNIST is one of them. The following code fetches the MNIST dataset:\n"
      ]
    },
    {
      "cell_type": "code",
      "metadata": {
        "id": "jBUOo6X0BQil",
        "colab_type": "code",
        "colab": {}
      },
      "source": [
        "# YOUR CODE COMES HERE"
      ],
      "execution_count": 0,
      "outputs": []
    },
    {
      "cell_type": "markdown",
      "metadata": {
        "id": "uyrzRiGnBgvb",
        "colab_type": "text"
      },
      "source": [
        "Let's take a look at the data:"
      ]
    },
    {
      "cell_type": "code",
      "metadata": {
        "id": "l6gcNOj9BkEV",
        "colab_type": "code",
        "colab": {}
      },
      "source": [
        "# YOUR CODE COMES HERE"
      ],
      "execution_count": 0,
      "outputs": []
    },
    {
      "cell_type": "code",
      "metadata": {
        "id": "4m0fXFw8BpdB",
        "colab_type": "code",
        "colab": {}
      },
      "source": [
        "# YOUR CODE COMES HERE"
      ],
      "execution_count": 0,
      "outputs": []
    },
    {
      "cell_type": "markdown",
      "metadata": {
        "id": "U6LJt_i6B34n",
        "colab_type": "text"
      },
      "source": [
        "There are 70,000 images, and each image has 784 features. This is because each image is 28×28 pixels, and each feature simply represents one pixel’s intensity, from 0 (white) to 255 (black). "
      ]
    },
    {
      "cell_type": "markdown",
      "metadata": {
        "id": "V7GiAmPxB7B_",
        "colab_type": "text"
      },
      "source": [
        "Let’s take a peek at one digit from the dataset. All you need to do is grab an instance’s feature vector, reshape it to a 28×28 array, and display it using Matplotlib’s imshow() function:"
      ]
    },
    {
      "cell_type": "code",
      "metadata": {
        "id": "79m8UfaoB7st",
        "colab_type": "code",
        "colab": {}
      },
      "source": [
        "# YOUR CODE COMES HERE"
      ],
      "execution_count": 0,
      "outputs": []
    },
    {
      "cell_type": "markdown",
      "metadata": {
        "id": "Bgz-dz-VCDIJ",
        "colab_type": "text"
      },
      "source": [
        "This looks like a 5, and indeed that’s what the label tells us:"
      ]
    },
    {
      "cell_type": "code",
      "metadata": {
        "id": "h6ECSQZqCDsM",
        "colab_type": "code",
        "colab": {}
      },
      "source": [
        "# YOUR CODE COMES HERE"
      ],
      "execution_count": 0,
      "outputs": []
    },
    {
      "cell_type": "markdown",
      "metadata": {
        "id": "tEHi_LOxCJ9W",
        "colab_type": "text"
      },
      "source": [
        "Note that the label is a string. We prefer numbers, so let’s cast y to integers:"
      ]
    },
    {
      "cell_type": "code",
      "metadata": {
        "id": "q562U05TCKjE",
        "colab_type": "code",
        "colab": {}
      },
      "source": [
        "# YOUR CODE COMES HERE"
      ],
      "execution_count": 0,
      "outputs": []
    },
    {
      "cell_type": "markdown",
      "metadata": {
        "id": "YI8y66_uCu5m",
        "colab_type": "text"
      },
      "source": [
        "The MNIST dataset is actually already split into a training set (the first 60,000 images) and a test set (the last 10,000 images). Therefore, let's move ahead and separate the training and testing sets:"
      ]
    },
    {
      "cell_type": "code",
      "metadata": {
        "id": "C5eA-yXzC_SW",
        "colab_type": "code",
        "colab": {}
      },
      "source": [
        "# YOUR CODE COMES HERE"
      ],
      "execution_count": 0,
      "outputs": []
    },
    {
      "cell_type": "markdown",
      "metadata": {
        "id": "NUmAzCtaDEIN",
        "colab_type": "text"
      },
      "source": [
        "Note: The training set is already shuffled for us, which is good as this guarantees that all cross-validation folds will be similar (you don’t want one fold to be missing some digits). Moreover, some learning algorithms are sensitive to the order of the training instances, and they perform poorly if they get many similar instances in a row. Shuffling the dataset ensures that this won’t happen."
      ]
    },
    {
      "cell_type": "markdown",
      "metadata": {
        "id": "CjYtCOeYDKCI",
        "colab_type": "text"
      },
      "source": [
        "### **2. Training a Binary Classifier**"
      ]
    },
    {
      "cell_type": "markdown",
      "metadata": {
        "id": "vHGTnYRZDXMz",
        "colab_type": "text"
      },
      "source": [
        "Let’s simplify the problem for now and only try to identify one digit—for example, the number 5. This “5-detector” will be an example of a binary classifier, capable of distinguishing between just two classes, 5 and not-5. "
      ]
    },
    {
      "cell_type": "markdown",
      "metadata": {
        "id": "LRVzayAaDYpI",
        "colab_type": "text"
      },
      "source": [
        "Let’s create the target vectors for this classification task:"
      ]
    },
    {
      "cell_type": "code",
      "metadata": {
        "id": "NYVRNeQJDxHx",
        "colab_type": "code",
        "colab": {}
      },
      "source": [
        "# YOUR CODE COMES HERE"
      ],
      "execution_count": 0,
      "outputs": []
    },
    {
      "cell_type": "markdown",
      "metadata": {
        "id": "4o5CLRMAL2Re",
        "colab_type": "text"
      },
      "source": [
        "Let's use the Stochastic Gradient Descent (SGD) classifier, using Scikit-Learn’s SGDClassifier class. This classifier has the advantage of being capable of handling very large datasets efficiently. This is in part because SGD deals with training instances independently, one at a time (which also makes SGD well suited for online learning), as we will see later. \n",
        "\n",
        "Let’s create an SGDClassifier and train it on the whole training set:"
      ]
    },
    {
      "cell_type": "code",
      "metadata": {
        "id": "zihg5eV7OuN-",
        "colab_type": "code",
        "colab": {}
      },
      "source": [
        "# YOUR CODE COMES HERE"
      ],
      "execution_count": 0,
      "outputs": []
    },
    {
      "cell_type": "markdown",
      "metadata": {
        "id": "zSMAGYgVPD0t",
        "colab_type": "text"
      },
      "source": [
        "Now you can use it to detect images of the number 5:"
      ]
    },
    {
      "cell_type": "code",
      "metadata": {
        "id": "dDl07UPMO7U3",
        "colab_type": "code",
        "colab": {}
      },
      "source": [
        "# YOUR CODE COMES HERE"
      ],
      "execution_count": 0,
      "outputs": []
    },
    {
      "cell_type": "markdown",
      "metadata": {
        "id": "TTPR9GB_PEt4",
        "colab_type": "text"
      },
      "source": [
        "### **3. Performance Measures**"
      ]
    },
    {
      "cell_type": "markdown",
      "metadata": {
        "id": "Ax8XaqUoPNe3",
        "colab_type": "text"
      },
      "source": [
        "#### Measuring Accuracy Using Cross-Validation\n",
        "Let’s use the cross_val_score() function to evaluate your SGDClassifier model using K-fold cross-validation, with three folds. K-fold cross- validation means splitting the training set into K-folds (in this case, three), then making predictions and evaluating them on each fold using a model trained on the remaining folds:"
      ]
    },
    {
      "cell_type": "code",
      "metadata": {
        "id": "1gU-ktMlQXWp",
        "colab_type": "code",
        "colab": {}
      },
      "source": [
        "# YOUR CODE COMES HERE"
      ],
      "execution_count": 0,
      "outputs": []
    },
    {
      "cell_type": "markdown",
      "metadata": {
        "id": "5UqUytstQs30",
        "colab_type": "text"
      },
      "source": [
        "Wow! Above 95% accuracy (ratio of correct predictions) on all cross-validation folds? This looks amazing, doesn’t it? Well, before you get too excited, let’s look at a very dumb classifier that just classifies every single image in the “not-5” class:"
      ]
    },
    {
      "cell_type": "code",
      "metadata": {
        "id": "rUygwzPYQude",
        "colab_type": "code",
        "colab": {}
      },
      "source": [
        "# YOUR CODE COMES HERE"
      ],
      "execution_count": 0,
      "outputs": []
    },
    {
      "cell_type": "markdown",
      "metadata": {
        "id": "tJFZG6kyRJaU",
        "colab_type": "text"
      },
      "source": [
        "Let's find the accuracy of this dumb-classifier:"
      ]
    },
    {
      "cell_type": "code",
      "metadata": {
        "id": "NJMKw0NMRMIC",
        "colab_type": "code",
        "colab": {}
      },
      "source": [
        "# YOUR CODE COMES HERE"
      ],
      "execution_count": 0,
      "outputs": []
    },
    {
      "cell_type": "markdown",
      "metadata": {
        "id": "R-hKKXwWRTFn",
        "colab_type": "text"
      },
      "source": [
        "That’s right, it has over 90% accuracy! This is simply because only about 10% of the images are 5s, so if you always guess that an image is not a 5, you will be right about 90% of the time. \n",
        "\n",
        "This demonstrates why accuracy is generally not the preferred performance measure for classifiers, especially when you are dealing with skewed datasets (i.e., when some classes are much more frequent than others)."
      ]
    },
    {
      "cell_type": "markdown",
      "metadata": {
        "id": "FtwAB3NlRbrD",
        "colab_type": "text"
      },
      "source": [
        "#### Confusion Matrix"
      ]
    },
    {
      "cell_type": "markdown",
      "metadata": {
        "id": "gN7pOS5qRi5X",
        "colab_type": "text"
      },
      "source": [
        "A much better way to evaluate the performance of a classifier is to look at the confusion matrix. The general idea is to count the number of times instances of class A are classified as class B.\n",
        "\n",
        "For example, to know the number of times the classifier confused images of 5s with 3s, you would look in the 5th row and 3rd column of the confusion matrix."
      ]
    },
    {
      "cell_type": "markdown",
      "metadata": {
        "id": "cleCeIEyRxeh",
        "colab_type": "text"
      },
      "source": [
        "To compute the confusion matrix, you first need to have a set of predictions, so they can be compared to the actual targets. You could make predictions on the test set, but let’s keep it untouched for now."
      ]
    },
    {
      "cell_type": "code",
      "metadata": {
        "id": "MZx3-F_PRdSj",
        "colab_type": "code",
        "colab": {}
      },
      "source": [
        "# YOUR CODE COMES HERE"
      ],
      "execution_count": 0,
      "outputs": []
    },
    {
      "cell_type": "markdown",
      "metadata": {
        "id": "JbMh0lWdR8vl",
        "colab_type": "text"
      },
      "source": [
        "Just like the cross_val_score() function, cross_val_predict() performs K-fold cross-validation, but instead of returning the evaluation scores, it returns the predictions made on each test fold. This means that you get a clean prediction for each instance in the training set (“clean” meaning that the prediction is made by a model that never saw the data during training)."
      ]
    },
    {
      "cell_type": "markdown",
      "metadata": {
        "id": "qgMt4cCIR_Au",
        "colab_type": "text"
      },
      "source": [
        "Now you are ready to get the confusion matrix using the confusion_matrix() function. Just pass it the target classes (y_train_5) and the predicted classes (y_train_pred):"
      ]
    },
    {
      "cell_type": "code",
      "metadata": {
        "id": "R8nWUwcUSCBZ",
        "colab_type": "code",
        "colab": {}
      },
      "source": [
        "# YOUR CODE COMES HERE"
      ],
      "execution_count": 0,
      "outputs": []
    },
    {
      "cell_type": "markdown",
      "metadata": {
        "id": "Tf23vV2jS1PR",
        "colab_type": "text"
      },
      "source": [
        "Each row in a confusion matrix represents an actual class, while each column repre‐ sents a predicted class. The first row of this matrix considers non-5 images (the nega‐ tive class): 53,057 of them were correctly classified as non-5s (they are called true negatives), while the remaining 1,522 were wrongly classified as 5s (false positives). The second row considers the images of 5s (the positive class): 1,325 were wrongly classified as non-5s (false negatives), while the remaining 4,096 were correctly classified as 5s (true positives). \n",
        "\n",
        "A perfect classifier would have only true positives and true negatives, so its confusion matrix would have nonzero values only on its main diagonal (top left to bottom right)."
      ]
    },
    {
      "cell_type": "markdown",
      "metadata": {
        "id": "tuAb2Ie8TDap",
        "colab_type": "text"
      },
      "source": [
        "**Precision - the accuracy of the positive predictions**\n",
        "\n",
        "Precision = TP / (TP + FP)\n",
        "\n",
        "where, TP = number of true positives and FP = number of false positives\n",
        "\n",
        "Precision is typically used along with another metric named **recall**, also called sensitivity or true positive rate.\n",
        "\n",
        "**Recall - the ratio of positive instances that are correctly detected by the classifier**\n",
        "\n",
        "Recall = TP / (TP + FN)"
      ]
    },
    {
      "cell_type": "markdown",
      "metadata": {
        "id": "v9f6e-zBUSd9",
        "colab_type": "text"
      },
      "source": [
        "#### Precision and Recall"
      ]
    },
    {
      "cell_type": "markdown",
      "metadata": {
        "id": "6R7WOx_wUcIX",
        "colab_type": "text"
      },
      "source": [
        "Scikit-Learn provides several functions to compute classifier metrics, including precision and recall:"
      ]
    },
    {
      "cell_type": "code",
      "metadata": {
        "id": "_b171TK-UYEm",
        "colab_type": "code",
        "colab": {}
      },
      "source": [
        "# YOUR CODE COMES HERE"
      ],
      "execution_count": 0,
      "outputs": []
    },
    {
      "cell_type": "code",
      "metadata": {
        "id": "bJ1XMaqnUe68",
        "colab_type": "code",
        "colab": {}
      },
      "source": [
        "# YOUR CODE COMES HERE"
      ],
      "execution_count": 0,
      "outputs": []
    },
    {
      "cell_type": "markdown",
      "metadata": {
        "id": "h35Y6aPsUkQa",
        "colab_type": "text"
      },
      "source": [
        "Now, our classifier doesn't look that great, as when it looked like when we compared with its accuracy.\n",
        "\n",
        "When it claims an image represents a 5, it is correct only 83.7% of the time. More‐ over, it only detects 65.1% of the 5s."
      ]
    }
  ]
}