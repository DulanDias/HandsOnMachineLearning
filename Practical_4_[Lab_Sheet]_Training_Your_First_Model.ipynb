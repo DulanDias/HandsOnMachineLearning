{
  "nbformat": 4,
  "nbformat_minor": 0,
  "metadata": {
    "colab": {
      "name": "Practical 4 [Lab Sheet] - Training Your First Model.ipynb",
      "provenance": [],
      "collapsed_sections": [],
      "authorship_tag": "ABX9TyPAjb9ecN1DCgIPwipmOiV2",
      "include_colab_link": true
    },
    "kernelspec": {
      "name": "python3",
      "display_name": "Python 3"
    }
  },
  "cells": [
    {
      "cell_type": "markdown",
      "metadata": {
        "id": "view-in-github",
        "colab_type": "text"
      },
      "source": [
        "<a href=\"https://colab.research.google.com/github/DulanDias/HandsOnMachineLearning/blob/master/Practical_4_%5BLab_Sheet%5D_Training_Your_First_Model.ipynb\" target=\"_parent\"><img src=\"https://colab.research.google.com/assets/colab-badge.svg\" alt=\"Open In Colab\"/></a>"
      ]
    },
    {
      "cell_type": "markdown",
      "metadata": {
        "id": "ijuiybnH4QEC",
        "colab_type": "text"
      },
      "source": [
        "# **CSC 319 1.5 Machine Learning 1**\n",
        "## **Practical 4 [Lab Sheet] - Training Your First Model**\n",
        "\n",
        "In this section, we will use what we have learnt so far and train our first model.\n"
      ]
    },
    {
      "cell_type": "markdown",
      "metadata": {
        "id": "E79iDlK_AOOs",
        "colab_type": "text"
      },
      "source": [
        "**k-Nearest-Neighbors (k-NN)** is a supervised machine learning model. Supervised learning is when a model learns from data that is already labeled. A supervised learning model takes in a set of input objects and output values. The model then trains on that data to learn how to map the inputs to the desired output so it can learn to make predictions on unseen data."
      ]
    },
    {
      "cell_type": "markdown",
      "metadata": {
        "id": "FF-a3AaDBTfW",
        "colab_type": "text"
      },
      "source": [
        "#### **Your Task - Diabetics Prediction**\n",
        "\n",
        "You are required to train a model that can predict whether a patient is diabetic or not, based on given parameters such as Glucose, Blood Pressure, Age, BMI, etc.\n",
        "\n",
        "You may use the hosted dataset found [here](https://raw.githubusercontent.com/susanli2016/Machine-Learning-with-Python/master/diabetes.csv)."
      ]
    },
    {
      "cell_type": "markdown",
      "metadata": {
        "id": "lNWkHJkPDSKH",
        "colab_type": "text"
      },
      "source": [
        "### **1. Reading the Data**"
      ]
    },
    {
      "cell_type": "markdown",
      "metadata": {
        "id": "yZyz4bQnCC3U",
        "colab_type": "text"
      },
      "source": [
        "You are required to:\n",
        "1. Load the dataset and verify that the data has been loaded properly."
      ]
    },
    {
      "cell_type": "code",
      "metadata": {
        "id": "EkO12USgCLmS",
        "colab_type": "code",
        "colab": {}
      },
      "source": [
        "# YOUR CODE COMES HERE"
      ],
      "execution_count": 0,
      "outputs": []
    },
    {
      "cell_type": "markdown",
      "metadata": {
        "id": "EGNY0PJaCatM",
        "colab_type": "text"
      },
      "source": [
        "2. Determine how much data we have, rows and columns. "
      ]
    },
    {
      "cell_type": "code",
      "metadata": {
        "id": "joHMGEz4DDPB",
        "colab_type": "code",
        "colab": {}
      },
      "source": [
        "# YOUR CODE COMES HERE"
      ],
      "execution_count": 0,
      "outputs": []
    },
    {
      "cell_type": "markdown",
      "metadata": {
        "id": "qcCKITcADM6T",
        "colab_type": "text"
      },
      "source": [
        "### **2. Split up the dataset into inputs and targets**\n",
        "\n",
        "Now let’s split up our dataset into inputs (X) and our target (y). Our input will be every column except 'Outcome' because 'Outcome' is what we will be attempting to predict. Therefore, 'Outcome' will be our target."
      ]
    },
    {
      "cell_type": "markdown",
      "metadata": {
        "id": "HZVY16wkDtAf",
        "colab_type": "text"
      },
      "source": [
        "3. Create a new Data Frame, X, to store the input attributes by removing the 'Outcome' column. Verify that the column has been removed."
      ]
    },
    {
      "cell_type": "code",
      "metadata": {
        "id": "j6UtkIHRENhe",
        "colab_type": "code",
        "colab": {}
      },
      "source": [
        "# YOUR CODE COMES HERE"
      ],
      "execution_count": 0,
      "outputs": []
    },
    {
      "cell_type": "markdown",
      "metadata": {
        "id": "i6_LZyPbEjYx",
        "colab_type": "text"
      },
      "source": [
        "4. Create a target variable, y, to store our target data (i.e. the Outcome column). Also, print the first 5 elements of this target variable."
      ]
    },
    {
      "cell_type": "code",
      "metadata": {
        "id": "uakm8hGqEzTR",
        "colab_type": "code",
        "colab": {}
      },
      "source": [
        "# YOUR CODE COMES HERE"
      ],
      "execution_count": 0,
      "outputs": []
    },
    {
      "cell_type": "markdown",
      "metadata": {
        "id": "3tAm9guXFmdI",
        "colab_type": "text"
      },
      "source": [
        "### **3. Split the dataset into train and test data**"
      ]
    },
    {
      "cell_type": "markdown",
      "metadata": {
        "id": "vD8-updNFpYu",
        "colab_type": "text"
      },
      "source": [
        "Now we will split the dataset into into training data and testing data. The training data is the data that the model will learn from. The testing data is the data we will use to see how well the model performs on unseen data.\n",
        "\n",
        "Scikit-learn has a function we can use called ‘train_test_split’ that makes it easy for us to split our dataset into training and testing data."
      ]
    },
    {
      "cell_type": "code",
      "metadata": {
        "id": "g5zddN-SF0z0",
        "colab_type": "code",
        "colab": {}
      },
      "source": [
        "# YOUR CODE COMES HERE"
      ],
      "execution_count": 0,
      "outputs": []
    },
    {
      "cell_type": "markdown",
      "metadata": {
        "id": "DtHHShaYGJuD",
        "colab_type": "text"
      },
      "source": [
        "* ‘train_test_split’ takes in 5 parameters. The first two parameters are the input and target data we split up earlier. \n",
        "* Next, we will set ‘test_size’ to 0.2. This means that 20% of all the data will be used for testing, which leaves 80% of the data as training data for the model to learn from. \n",
        "* Setting ‘random_state’ to 1 ensures that we get the same split each time so we can reproduce our results."
      ]
    },
    {
      "cell_type": "markdown",
      "metadata": {
        "id": "ozN6qvjXGW_a",
        "colab_type": "text"
      },
      "source": [
        "### **4. Building and training the model**"
      ]
    },
    {
      "cell_type": "code",
      "metadata": {
        "id": "mnkW0fxxGfit",
        "colab_type": "code",
        "colab": {}
      },
      "source": [
        "# YOUR CODE COMES HERE"
      ],
      "execution_count": 0,
      "outputs": []
    },
    {
      "cell_type": "markdown",
      "metadata": {
        "id": "I0ZAnRYoGvuX",
        "colab_type": "text"
      },
      "source": [
        "* First, we will create a new k-NN classifier and set ‘n_neighbors’ to 3, which means that a new data point is labeled with by majority from the 3 nearest points.\n",
        "* We have set ‘n_neighbors’ to 3 as a starting point. We will go into more detail below on how to better select a value for ‘n_neighbors’ so that the model can improve its performance.\n",
        "* Next, we need to train the model. In order to train our new model, we will use the ‘fit’ function and pass in our training data as parameters to fit our model to the training data."
      ]
    },
    {
      "cell_type": "markdown",
      "metadata": {
        "id": "VMiox4AtHCFq",
        "colab_type": "text"
      },
      "source": [
        "### **5. Testing the model**\n",
        "\n",
        "Once the model is trained, we can use the ‘predict’ function on our model to make predictions on our test data."
      ]
    },
    {
      "cell_type": "code",
      "metadata": {
        "id": "qmV9uxaVHRLC",
        "colab_type": "code",
        "colab": {}
      },
      "source": [
        "# YOUR CODE COMES HERE"
      ],
      "execution_count": 0,
      "outputs": []
    },
    {
      "cell_type": "markdown",
      "metadata": {
        "id": "pArjbJDJHgCg",
        "colab_type": "text"
      },
      "source": [
        "We can see that the model predicted ‘no diabetes’ for the first 4 patients in the test set and ‘has diabetes’ for the 5th patient.\n",
        "\n",
        "Now let’s see how our accurate our model is on the full test set. To do this, we will use the ‘score’ function and pass in our test input and target data to see how well our model predictions match up to the actual results."
      ]
    },
    {
      "cell_type": "code",
      "metadata": {
        "id": "blA0_OpVKI7_",
        "colab_type": "code",
        "colab": {}
      },
      "source": [
        "# YOUR CODE COMES HERE"
      ],
      "execution_count": 0,
      "outputs": []
    },
    {
      "cell_type": "markdown",
      "metadata": {
        "id": "IRwRO7-Af2JG",
        "colab_type": "text"
      },
      "source": [
        "#### **Your Task - Iris Dataset**\n",
        "\n",
        "You are required to build and train a knn-model to predict the 'type' of flower using the Iris dataset."
      ]
    },
    {
      "cell_type": "code",
      "metadata": {
        "id": "FyxjC0wRhlJL",
        "colab_type": "code",
        "colab": {}
      },
      "source": [
        "# YOUR CODE COMES HERE"
      ],
      "execution_count": 0,
      "outputs": []
    }
  ]
}