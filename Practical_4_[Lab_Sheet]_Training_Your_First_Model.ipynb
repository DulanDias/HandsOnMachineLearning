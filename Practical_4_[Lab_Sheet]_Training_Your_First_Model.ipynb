{
  "nbformat": 4,
  "nbformat_minor": 0,
  "metadata": {
    "colab": {
      "name": "Practical 4 [Lab Sheet] - Training Your First Model.ipynb",
      "provenance": [],
      "collapsed_sections": [],
      "authorship_tag": "ABX9TyMhhLAddcss+d/S6LpnZDo5",
      "include_colab_link": true
    },
    "kernelspec": {
      "name": "python3",
      "display_name": "Python 3"
    }
  },
  "cells": [
    {
      "cell_type": "markdown",
      "metadata": {
        "id": "view-in-github",
        "colab_type": "text"
      },
      "source": [
        "<a href=\"https://colab.research.google.com/github/DulanDias/HandsOnMachineLearning/blob/master/Practical_4_%5BLab_Sheet%5D_Training_Your_First_Model.ipynb\" target=\"_parent\"><img src=\"https://colab.research.google.com/assets/colab-badge.svg\" alt=\"Open In Colab\"/></a>"
      ]
    },
    {
      "cell_type": "markdown",
      "metadata": {
        "id": "ijuiybnH4QEC",
        "colab_type": "text"
      },
      "source": [
        "# **CSC 319 1.5 Machine Learning 1**\n",
        "## **Practical 4 [Lab Sheet] - Training Your First Model**\n",
        "\n",
        "In this section, we will use what we have learnt so far and train our first model.\n"
      ]
    },
    {
      "cell_type": "markdown",
      "metadata": {
        "id": "E79iDlK_AOOs",
        "colab_type": "text"
      },
      "source": [
        "**k-Nearest-Neighbors (k-NN)** is a supervised machine learning model. Supervised learning is when a model learns from data that is already labeled. A supervised learning model takes in a set of input objects and output values. The model then trains on that data to learn how to map the inputs to the desired output so it can learn to make predictions on unseen data."
      ]
    },
    {
      "cell_type": "markdown",
      "metadata": {
        "id": "FF-a3AaDBTfW",
        "colab_type": "text"
      },
      "source": [
        "#### **Your Task - Diabetics Prediction**\n",
        "\n",
        "You are required to train a model that can predict whether a patient is diabetic or not, based on given parameters such as Glucose, Blood Pressure, Age, BMI, etc.\n",
        "\n",
        "You may use the hosted dataset found [here](https://raw.githubusercontent.com/susanli2016/Machine-Learning-with-Python/master/diabetes.csv)."
      ]
    },
    {
      "cell_type": "markdown",
      "metadata": {
        "id": "lNWkHJkPDSKH",
        "colab_type": "text"
      },
      "source": [
        "### **1. Reading the Data**"
      ]
    },
    {
      "cell_type": "markdown",
      "metadata": {
        "id": "yZyz4bQnCC3U",
        "colab_type": "text"
      },
      "source": [
        "You are required to:\n",
        "1. Load the dataset and verify that the data has been loaded properly."
      ]
    },
    {
      "cell_type": "code",
      "metadata": {
        "id": "EkO12USgCLmS",
        "colab_type": "code",
        "outputId": "0ed98d89-ded2-4d5d-9252-66e47ae22d1a",
        "colab": {
          "base_uri": "https://localhost:8080/",
          "height": 204
        }
      },
      "source": [
        "import pandas as pd\n",
        "\n",
        "df = pd.read_csv(\"https://raw.githubusercontent.com/susanli2016/Machine-Learning-with-Python/master/diabetes.csv\")\n",
        "\n",
        "df.head()"
      ],
      "execution_count": 0,
      "outputs": [
        {
          "output_type": "execute_result",
          "data": {
            "text/html": [
              "<div>\n",
              "<style scoped>\n",
              "    .dataframe tbody tr th:only-of-type {\n",
              "        vertical-align: middle;\n",
              "    }\n",
              "\n",
              "    .dataframe tbody tr th {\n",
              "        vertical-align: top;\n",
              "    }\n",
              "\n",
              "    .dataframe thead th {\n",
              "        text-align: right;\n",
              "    }\n",
              "</style>\n",
              "<table border=\"1\" class=\"dataframe\">\n",
              "  <thead>\n",
              "    <tr style=\"text-align: right;\">\n",
              "      <th></th>\n",
              "      <th>Pregnancies</th>\n",
              "      <th>Glucose</th>\n",
              "      <th>BloodPressure</th>\n",
              "      <th>SkinThickness</th>\n",
              "      <th>Insulin</th>\n",
              "      <th>BMI</th>\n",
              "      <th>DiabetesPedigreeFunction</th>\n",
              "      <th>Age</th>\n",
              "      <th>Outcome</th>\n",
              "    </tr>\n",
              "  </thead>\n",
              "  <tbody>\n",
              "    <tr>\n",
              "      <th>0</th>\n",
              "      <td>6</td>\n",
              "      <td>148</td>\n",
              "      <td>72</td>\n",
              "      <td>35</td>\n",
              "      <td>0</td>\n",
              "      <td>33.6</td>\n",
              "      <td>0.627</td>\n",
              "      <td>50</td>\n",
              "      <td>1</td>\n",
              "    </tr>\n",
              "    <tr>\n",
              "      <th>1</th>\n",
              "      <td>1</td>\n",
              "      <td>85</td>\n",
              "      <td>66</td>\n",
              "      <td>29</td>\n",
              "      <td>0</td>\n",
              "      <td>26.6</td>\n",
              "      <td>0.351</td>\n",
              "      <td>31</td>\n",
              "      <td>0</td>\n",
              "    </tr>\n",
              "    <tr>\n",
              "      <th>2</th>\n",
              "      <td>8</td>\n",
              "      <td>183</td>\n",
              "      <td>64</td>\n",
              "      <td>0</td>\n",
              "      <td>0</td>\n",
              "      <td>23.3</td>\n",
              "      <td>0.672</td>\n",
              "      <td>32</td>\n",
              "      <td>1</td>\n",
              "    </tr>\n",
              "    <tr>\n",
              "      <th>3</th>\n",
              "      <td>1</td>\n",
              "      <td>89</td>\n",
              "      <td>66</td>\n",
              "      <td>23</td>\n",
              "      <td>94</td>\n",
              "      <td>28.1</td>\n",
              "      <td>0.167</td>\n",
              "      <td>21</td>\n",
              "      <td>0</td>\n",
              "    </tr>\n",
              "    <tr>\n",
              "      <th>4</th>\n",
              "      <td>0</td>\n",
              "      <td>137</td>\n",
              "      <td>40</td>\n",
              "      <td>35</td>\n",
              "      <td>168</td>\n",
              "      <td>43.1</td>\n",
              "      <td>2.288</td>\n",
              "      <td>33</td>\n",
              "      <td>1</td>\n",
              "    </tr>\n",
              "  </tbody>\n",
              "</table>\n",
              "</div>"
            ],
            "text/plain": [
              "   Pregnancies  Glucose  BloodPressure  ...  DiabetesPedigreeFunction  Age  Outcome\n",
              "0            6      148             72  ...                     0.627   50        1\n",
              "1            1       85             66  ...                     0.351   31        0\n",
              "2            8      183             64  ...                     0.672   32        1\n",
              "3            1       89             66  ...                     0.167   21        0\n",
              "4            0      137             40  ...                     2.288   33        1\n",
              "\n",
              "[5 rows x 9 columns]"
            ]
          },
          "metadata": {
            "tags": []
          },
          "execution_count": 2
        }
      ]
    },
    {
      "cell_type": "markdown",
      "metadata": {
        "id": "EGNY0PJaCatM",
        "colab_type": "text"
      },
      "source": [
        "2. Determine how much data we have, rows and columns. "
      ]
    },
    {
      "cell_type": "code",
      "metadata": {
        "id": "joHMGEz4DDPB",
        "colab_type": "code",
        "outputId": "0cdc8ff5-e0ba-425f-de48-7245e7d8c2c1",
        "colab": {
          "base_uri": "https://localhost:8080/",
          "height": 34
        }
      },
      "source": [
        "df.shape"
      ],
      "execution_count": 0,
      "outputs": [
        {
          "output_type": "execute_result",
          "data": {
            "text/plain": [
              "(768, 9)"
            ]
          },
          "metadata": {
            "tags": []
          },
          "execution_count": 3
        }
      ]
    },
    {
      "cell_type": "markdown",
      "metadata": {
        "id": "qcCKITcADM6T",
        "colab_type": "text"
      },
      "source": [
        "### **2. Split up the dataset into inputs and targets**\n",
        "\n",
        "Now let’s split up our dataset into inputs (X) and our target (y). Our input will be every column except 'Outcome' because 'Outcome' is what we will be attempting to predict. Therefore, 'Outcome' will be our target."
      ]
    },
    {
      "cell_type": "markdown",
      "metadata": {
        "id": "HZVY16wkDtAf",
        "colab_type": "text"
      },
      "source": [
        "3. Create a new Data Frame, X, to store the input attributes by removing the 'Outcome' column. Verify that the column has been removed."
      ]
    },
    {
      "cell_type": "code",
      "metadata": {
        "id": "j6UtkIHRENhe",
        "colab_type": "code",
        "outputId": "a25e1ba3-6fa7-4434-c5eb-18983e7a00ea",
        "colab": {
          "base_uri": "https://localhost:8080/",
          "height": 204
        }
      },
      "source": [
        "X = df.drop(columns=['Outcome']) # or df.drop(\"Outcome\", axis=1)\n",
        "X.head()"
      ],
      "execution_count": 0,
      "outputs": [
        {
          "output_type": "execute_result",
          "data": {
            "text/html": [
              "<div>\n",
              "<style scoped>\n",
              "    .dataframe tbody tr th:only-of-type {\n",
              "        vertical-align: middle;\n",
              "    }\n",
              "\n",
              "    .dataframe tbody tr th {\n",
              "        vertical-align: top;\n",
              "    }\n",
              "\n",
              "    .dataframe thead th {\n",
              "        text-align: right;\n",
              "    }\n",
              "</style>\n",
              "<table border=\"1\" class=\"dataframe\">\n",
              "  <thead>\n",
              "    <tr style=\"text-align: right;\">\n",
              "      <th></th>\n",
              "      <th>Pregnancies</th>\n",
              "      <th>Glucose</th>\n",
              "      <th>BloodPressure</th>\n",
              "      <th>SkinThickness</th>\n",
              "      <th>Insulin</th>\n",
              "      <th>BMI</th>\n",
              "      <th>DiabetesPedigreeFunction</th>\n",
              "      <th>Age</th>\n",
              "    </tr>\n",
              "  </thead>\n",
              "  <tbody>\n",
              "    <tr>\n",
              "      <th>0</th>\n",
              "      <td>6</td>\n",
              "      <td>148</td>\n",
              "      <td>72</td>\n",
              "      <td>35</td>\n",
              "      <td>0</td>\n",
              "      <td>33.6</td>\n",
              "      <td>0.627</td>\n",
              "      <td>50</td>\n",
              "    </tr>\n",
              "    <tr>\n",
              "      <th>1</th>\n",
              "      <td>1</td>\n",
              "      <td>85</td>\n",
              "      <td>66</td>\n",
              "      <td>29</td>\n",
              "      <td>0</td>\n",
              "      <td>26.6</td>\n",
              "      <td>0.351</td>\n",
              "      <td>31</td>\n",
              "    </tr>\n",
              "    <tr>\n",
              "      <th>2</th>\n",
              "      <td>8</td>\n",
              "      <td>183</td>\n",
              "      <td>64</td>\n",
              "      <td>0</td>\n",
              "      <td>0</td>\n",
              "      <td>23.3</td>\n",
              "      <td>0.672</td>\n",
              "      <td>32</td>\n",
              "    </tr>\n",
              "    <tr>\n",
              "      <th>3</th>\n",
              "      <td>1</td>\n",
              "      <td>89</td>\n",
              "      <td>66</td>\n",
              "      <td>23</td>\n",
              "      <td>94</td>\n",
              "      <td>28.1</td>\n",
              "      <td>0.167</td>\n",
              "      <td>21</td>\n",
              "    </tr>\n",
              "    <tr>\n",
              "      <th>4</th>\n",
              "      <td>0</td>\n",
              "      <td>137</td>\n",
              "      <td>40</td>\n",
              "      <td>35</td>\n",
              "      <td>168</td>\n",
              "      <td>43.1</td>\n",
              "      <td>2.288</td>\n",
              "      <td>33</td>\n",
              "    </tr>\n",
              "  </tbody>\n",
              "</table>\n",
              "</div>"
            ],
            "text/plain": [
              "   Pregnancies  Glucose  BloodPressure  ...   BMI  DiabetesPedigreeFunction  Age\n",
              "0            6      148             72  ...  33.6                     0.627   50\n",
              "1            1       85             66  ...  26.6                     0.351   31\n",
              "2            8      183             64  ...  23.3                     0.672   32\n",
              "3            1       89             66  ...  28.1                     0.167   21\n",
              "4            0      137             40  ...  43.1                     2.288   33\n",
              "\n",
              "[5 rows x 8 columns]"
            ]
          },
          "metadata": {
            "tags": []
          },
          "execution_count": 9
        }
      ]
    },
    {
      "cell_type": "markdown",
      "metadata": {
        "id": "i6_LZyPbEjYx",
        "colab_type": "text"
      },
      "source": [
        "4. Create a target variable, y, to store our target data (i.e. the Outcome column). Also, print the first 5 elements of this target variable."
      ]
    },
    {
      "cell_type": "code",
      "metadata": {
        "id": "uakm8hGqEzTR",
        "colab_type": "code",
        "outputId": "0aa07757-f23e-494d-c1d5-6ab5b5e136f2",
        "colab": {
          "base_uri": "https://localhost:8080/",
          "height": 34
        }
      },
      "source": [
        "y = df['Outcome'].values\n",
        "y[0:5]"
      ],
      "execution_count": 0,
      "outputs": [
        {
          "output_type": "execute_result",
          "data": {
            "text/plain": [
              "array([1, 0, 1, 0, 1])"
            ]
          },
          "metadata": {
            "tags": []
          },
          "execution_count": 7
        }
      ]
    },
    {
      "cell_type": "markdown",
      "metadata": {
        "id": "3tAm9guXFmdI",
        "colab_type": "text"
      },
      "source": [
        "### **3. Split the dataset into train and test data**"
      ]
    },
    {
      "cell_type": "markdown",
      "metadata": {
        "id": "vD8-updNFpYu",
        "colab_type": "text"
      },
      "source": [
        "Now we will split the dataset into into training data and testing data. The training data is the data that the model will learn from. The testing data is the data we will use to see how well the model performs on unseen data.\n",
        "\n",
        "Scikit-learn has a function we can use called ‘train_test_split’ that makes it easy for us to split our dataset into training and testing data."
      ]
    },
    {
      "cell_type": "code",
      "metadata": {
        "id": "g5zddN-SF0z0",
        "colab_type": "code",
        "colab": {}
      },
      "source": [
        "from sklearn.model_selection import train_test_split\n",
        "\n",
        "X_train, X_test, y_train, y_test = train_test_split(X, y, test_size=0.2, random_state=1, stratify=y)"
      ],
      "execution_count": 0,
      "outputs": []
    },
    {
      "cell_type": "markdown",
      "metadata": {
        "id": "DtHHShaYGJuD",
        "colab_type": "text"
      },
      "source": [
        "* ‘train_test_split’ takes in 5 parameters. The first two parameters are the input and target data we split up earlier. \n",
        "* Next, we will set ‘test_size’ to 0.2. This means that 20% of all the data will be used for testing, which leaves 80% of the data as training data for the model to learn from. \n",
        "* Setting ‘random_state’ to 1 ensures that we get the same split each time so we can reproduce our results."
      ]
    },
    {
      "cell_type": "markdown",
      "metadata": {
        "id": "ozN6qvjXGW_a",
        "colab_type": "text"
      },
      "source": [
        "### **4. Building and training the model**"
      ]
    },
    {
      "cell_type": "code",
      "metadata": {
        "id": "mnkW0fxxGfit",
        "colab_type": "code",
        "outputId": "12e1a31b-ad78-45ea-ffd9-3120d828ca94",
        "colab": {
          "base_uri": "https://localhost:8080/",
          "height": 68
        }
      },
      "source": [
        "from sklearn.neighbors import KNeighborsClassifier\n",
        "# Create KNN classifier\n",
        "knn = KNeighborsClassifier(n_neighbors = 3)\n",
        "# Fit the classifier to the data\n",
        "knn.fit(X_train,y_train)"
      ],
      "execution_count": 0,
      "outputs": [
        {
          "output_type": "execute_result",
          "data": {
            "text/plain": [
              "KNeighborsClassifier(algorithm='auto', leaf_size=30, metric='minkowski',\n",
              "                     metric_params=None, n_jobs=None, n_neighbors=3, p=2,\n",
              "                     weights='uniform')"
            ]
          },
          "metadata": {
            "tags": []
          },
          "execution_count": 11
        }
      ]
    },
    {
      "cell_type": "markdown",
      "metadata": {
        "id": "I0ZAnRYoGvuX",
        "colab_type": "text"
      },
      "source": [
        "* First, we will create a new k-NN classifier and set ‘n_neighbors’ to 3, which means that a new data point is labeled with by majority from the 3 nearest points.\n",
        "* We have set ‘n_neighbors’ to 3 as a starting point. We will go into more detail below on how to better select a value for ‘n_neighbors’ so that the model can improve its performance.\n",
        "* Next, we need to train the model. In order to train our new model, we will use the ‘fit’ function and pass in our training data as parameters to fit our model to the training data."
      ]
    },
    {
      "cell_type": "markdown",
      "metadata": {
        "id": "VMiox4AtHCFq",
        "colab_type": "text"
      },
      "source": [
        "### **5. Testing the model**\n",
        "\n",
        "Once the model is trained, we can use the ‘predict’ function on our model to make predictions on our test data."
      ]
    },
    {
      "cell_type": "code",
      "metadata": {
        "id": "qmV9uxaVHRLC",
        "colab_type": "code",
        "outputId": "41df314b-dead-4400-e412-59ed3db3337c",
        "colab": {
          "base_uri": "https://localhost:8080/",
          "height": 34
        }
      },
      "source": [
        "knn.predict(X_test)[0:5]"
      ],
      "execution_count": 0,
      "outputs": [
        {
          "output_type": "execute_result",
          "data": {
            "text/plain": [
              "array([0, 0, 0, 0, 1])"
            ]
          },
          "metadata": {
            "tags": []
          },
          "execution_count": 13
        }
      ]
    },
    {
      "cell_type": "markdown",
      "metadata": {
        "id": "pArjbJDJHgCg",
        "colab_type": "text"
      },
      "source": [
        "We can see that the model predicted ‘no diabetes’ for the first 4 patients in the test set and ‘has diabetes’ for the 5th patient.\n",
        "\n",
        "Now let’s see how our accurate our model is on the full test set. To do this, we will use the ‘score’ function and pass in our test input and target data to see how well our model predictions match up to the actual results."
      ]
    },
    {
      "cell_type": "code",
      "metadata": {
        "id": "blA0_OpVKI7_",
        "colab_type": "code",
        "outputId": "728d116e-f30f-4b66-e55c-0a23a8cf3229",
        "colab": {
          "base_uri": "https://localhost:8080/",
          "height": 34
        }
      },
      "source": [
        "knn.score(X_test, y_test)"
      ],
      "execution_count": 0,
      "outputs": [
        {
          "output_type": "execute_result",
          "data": {
            "text/plain": [
              "0.6688311688311688"
            ]
          },
          "metadata": {
            "tags": []
          },
          "execution_count": 14
        }
      ]
    },
    {
      "cell_type": "markdown",
      "metadata": {
        "id": "IRwRO7-Af2JG",
        "colab_type": "text"
      },
      "source": [
        "#### **Your Task - Iris Dataset**\n",
        "\n",
        "You are required to build and train a knn-model to predict the 'type' of flower using the Iris dataset."
      ]
    }
  ]
}